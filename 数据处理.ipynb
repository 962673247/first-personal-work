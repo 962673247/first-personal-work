{
 "cells": [
  {
   "cell_type": "code",
   "execution_count": 4,
   "metadata": {},
   "outputs": [],
   "source": [
    "import jieba"
   ]
  },
  {
   "cell_type": "code",
   "execution_count": 40,
   "metadata": {},
   "outputs": [],
   "source": [
    "import  jieba\n",
    "import json\n",
    "txt = open(\"211806150pinglun.txt\", \"r\", encoding='utf-8').read()\n",
    "words = jieba.lcut(txt)     # 使用精确模式对文本进行分词\n",
    "counts = {}     # 通过键值对的形式存储词语及其出现的次数\n",
    "\n",
    "for word in words:\n",
    "    if  len(word) == 1:    # 单个词语不计算在内\n",
    "        continue\n",
    "    else:\n",
    "        counts[word] = counts.get(word, 0) + 1    # 遍历所有词语，每出现一次其对应的值加 1\n",
    "items=list();\n",
    "for key,value in counts.items():\n",
    "    dicts=dict()\n",
    "    dicts[\"name\"]=key\n",
    "    dicts[\"value\"]=value\n",
    "    if(value>=100):\n",
    "        items.append(dicts)\n",
    "with open(\"comments.json\",\"w\",encoding=\"utf-8\") as file:\n",
    "    file.write(json.dumps(items,ensure_ascii=False))"
   ]
  },
  {
   "cell_type": "code",
   "execution_count": null,
   "metadata": {},
   "outputs": [],
   "source": []
  }
 ],
 "metadata": {
  "kernelspec": {
   "display_name": "Python 3",
   "language": "python",
   "name": "python3"
  },
  "language_info": {
   "codemirror_mode": {
    "name": "ipython",
    "version": 3
   },
   "file_extension": ".py",
   "mimetype": "text/x-python",
   "name": "python",
   "nbconvert_exporter": "python",
   "pygments_lexer": "ipython3",
   "version": "3.7.0"
  }
 },
 "nbformat": 4,
 "nbformat_minor": 2
}
